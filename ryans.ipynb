{
 "cells": [
  {
   "cell_type": "code",
   "execution_count": 70,
   "metadata": {},
   "outputs": [],
   "source": [
    "from time import sleep\n",
    "from selenium import webdriver\n",
    "from selenium.webdriver.common import keys\n",
    "from bs4 import BeautifulSoup\n",
    "from gsheet import authenticate"
   ]
  },
  {
   "cell_type": "code",
   "execution_count": 71,
   "metadata": {},
   "outputs": [],
   "source": [
    "# USE THE AUTHENTICATION\n",
    "client = authenticate(\"credentials.json\")\n",
    "# OPEN SHEET AND DO SOME MODIFICATIONS\n",
    "sheet_url = \"https://docs.google.com/spreadsheets/d/1O65J346YX-cprNxW4BW7_-L15lwnPJRFcmWDImYk01g/edit#gid=0\"\n",
    "workbook = client.open_by_url(sheet_url)\n",
    "selected_tab = workbook.worksheet(\"Sheet1\")"
   ]
  },
  {
   "cell_type": "code",
   "execution_count": 72,
   "metadata": {},
   "outputs": [],
   "source": [
    "chrome_options = webdriver.ChromeOptions()\n",
    "chrome_options.add_argument('--headless')\n",
    "chrome_options.add_argument('--no-sandbox')\n",
    "chrome_options.add_argument('--disable-dev-shm-usage')\n",
    "driver = webdriver.Chrome('C:/Development/res/chromedriver', options=chrome_options)"
   ]
  },
  {
   "cell_type": "code",
   "execution_count": 73,
   "metadata": {},
   "outputs": [],
   "source": [
    "base_url = 'https://www.ryanscomputers.com/search?q='\n",
    "page = '&idx=products&p='\n",
    "req_specs = [\n",
    "    'Model',\n",
    "    'Processor Model',\n",
    "    'Generation',\n",
    "    'Processor Clock Speed',\n",
    "    'CPU Cache',\n",
    "    'Display Type',\n",
    "    'Display Resolution',\n",
    "    'Ram',\n",
    "    'Ram Type',\n",
    "    'RAM Bus (MHz)',\n",
    "    'Storage',\n",
    "    'HDD',\n",
    "    'Graphics Chipset',\n",
    "    'Operating System',\n",
    "    'Color',\n",
    "    'Warranty',\n",
    "    'Price',\n",
    "    'Link'\n",
    "]"
   ]
  },
  {
   "cell_type": "code",
   "execution_count": 74,
   "metadata": {},
   "outputs": [],
   "source": [
    "# Parse Product links from a search page\n",
    "def get_product_links(driver, search_url):\n",
    "  driver.get(search_url)\n",
    "  sleep(2)\n",
    "  soup = BeautifulSoup(driver.page_source)\n",
    "  page_items = soup.find_all('div', {'class': 'product-thumb'})\n",
    "  product_links = []\n",
    "  for item in page_items:\n",
    "    x = item.find('a', href=True)\n",
    "    product_links.append(x['href'])\n",
    "  return product_links\n",
    "\n",
    "\n",
    "# Parse Product details from a product link\n",
    "def get_product_details(driver, product_link):\n",
    "  driver.get(product_link)\n",
    "  soup = BeautifulSoup(driver.page_source)\n",
    "  price = 'N/A'\n",
    "  try:\n",
    "      price = soup.find('span', {'class': 'price'}).text.strip()\n",
    "  except:\n",
    "      pass\n",
    "  specs = soup.find('table').find_all('tr')\n",
    "  product_details = {'Price': f\"Tk {price}\", 'Link': product_link}\n",
    "  for spec in specs:\n",
    "    sp = spec.find_all('td')\n",
    "    spec_name = sp[0].text.strip()\n",
    "    spec_value = sp[1].text.strip()\n",
    "    product_details[f'{spec_name}'] = f'{spec_value}'\n",
    "  return product_details"
   ]
  },
  {
   "cell_type": "code",
   "execution_count": 75,
   "metadata": {},
   "outputs": [],
   "source": [
    "qry = input('Which product are you finding? - ')\n",
    "p_qry = qry.replace(' ', '%20')\n",
    "search_url = base_url + p_qry + page"
   ]
  },
  {
   "cell_type": "code",
   "execution_count": 76,
   "metadata": {},
   "outputs": [],
   "source": [
    "starting_row = 2\n",
    "will_run = True\n",
    "s_url = search_url + '0'\n",
    "page_counter = 0\n",
    "row_counter = 0\n",
    "while will_run and page_counter < 10:\n",
    "    product_links = get_product_links(driver, s_url)\n",
    "    try:\n",
    "        for i in range(len(product_links)):\n",
    "            details = get_product_details(driver, product_links[i])\n",
    "            sleep(2)\n",
    "            row_data = []\n",
    "            for j in range(len(req_specs)):\n",
    "                try:\n",
    "                    row_data.append(details[f\"{req_specs[j]}\"])\n",
    "                except:\n",
    "                    row_data.append('N/A')\n",
    "            f_row_data = [row_data]\n",
    "            selected_tab.update(f\"A{starting_row + row_counter}\", f_row_data)\n",
    "            row_counter += 1\n",
    "        try:\n",
    "            driver.get(s_url)\n",
    "            sleep(2)\n",
    "            s_url = driver.find_element_by_xpath('//a[@aria-label=\"Next\"]').get_attribute(\"href\")\n",
    "            counter += 1\n",
    "        except:\n",
    "            will_run = False\n",
    "    except:\n",
    "        will_run = False"
   ]
  },
  {
   "cell_type": "code",
   "execution_count": 77,
   "metadata": {},
   "outputs": [],
   "source": [
    "driver.close()"
   ]
  },
  {
   "cell_type": "code",
   "execution_count": null,
   "metadata": {},
   "outputs": [],
   "source": []
  }
 ],
 "metadata": {
  "language_info": {
   "codemirror_mode": {
    "name": "ipython",
    "version": 3
   },
   "file_extension": ".py",
   "mimetype": "text/x-python",
   "name": "python",
   "nbconvert_exporter": "python",
   "pygments_lexer": "ipython3",
   "version": "3.8.3-final"
  },
  "orig_nbformat": 2,
  "kernelspec": {
   "name": "python38332bit91999f9450ca49e3a32aa949ebd8502e",
   "display_name": "Python 3.8.3 32-bit"
  }
 },
 "nbformat": 4,
 "nbformat_minor": 2
}